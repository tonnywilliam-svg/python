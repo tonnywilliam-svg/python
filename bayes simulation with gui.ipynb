{
  "nbformat": 4,
  "nbformat_minor": 0,
  "metadata": {
    "colab": {
      "name": "Untitled0.ipynb",
      "provenance": [],
      "toc_visible": true,
      "authorship_tag": "ABX9TyOhVX/uJPgCvthq6sboOKLn",
      "include_colab_link": true
    },
    "kernelspec": {
      "name": "python3",
      "display_name": "Python 3"
    },
    "language_info": {
      "name": "python"
    }
  },
  "cells": [
    {
      "cell_type": "markdown",
      "metadata": {
        "id": "view-in-github",
        "colab_type": "text"
      },
      "source": [
        "<a href=\"https://colab.research.google.com/github/tonnywilliam-svg/python/blob/main/bayes%20simulation%20with%20gui.ipynb\" target=\"_parent\"><img src=\"https://colab.research.google.com/assets/colab-badge.svg\" alt=\"Open In Colab\"/></a>"
      ]
    },
    {
      "cell_type": "code",
      "source": [
        "import numpy as np\n",
        "from matplotlib import pyplot as plt\n",
        " \n",
        "def Bayes(oDef):\n",
        "  # preparation/utilities\n",
        "  def chain(v0,*funcs):\n",
        "    result=v0\n",
        "    for f in funcs:\n",
        "      result=f(result)\n",
        "    return result\n",
        "  \n",
        "  def map(arr,*funcs):\n",
        "    return [chain(e,*funcs) for e in arr]\n",
        " \n",
        "  n=oDef['n']; successes_observed=oDef['successes_observed']; prior=oDef['prior']; simulation_size=oDef['simulation_size']\n",
        "  simulate =lambda p: np.random.binomial(oDef['n'], p, simulation_size)\n",
        "  simulation_match_reality_count = lambda simulations, reality=successes_observed: len([s for s in simulations if s==reality])\n",
        "  \n",
        "  normalize = lambda arr: [e/sum(arr) for e in arr]\n",
        "  plot = lambda ys: plt.plot(prior,ys); plt.show()\n",
        "  # simulate and plotting\n",
        "  posterior0 =map(prior, simulate, simulation_match_reality_count)\n",
        "  chain(posterior0, normalize, plot)"
      ],
      "metadata": {
        "id": "Zx8i49HQ2XDc"
      },
      "execution_count": 2,
      "outputs": []
    },
    {
      "cell_type": "code",
      "execution_count": 5,
      "metadata": {
        "colab": {
          "base_uri": "https://localhost:8080/",
          "height": 265
        },
        "id": "tG17Ffso118E",
        "outputId": "e7555ba2-d191-4f14-fafb-8f8d529303be"
      },
      "outputs": [
        {
          "output_type": "display_data",
          "data": {
            "image/png": "[encoded data removed]",
            "text/plain": [
              "<Figure size 432x288 with 1 Axes>"
            ]
          },
          "metadata": {
            "needs_background": "light"
          }
        }
      ],
      "source": [
        "#@title Number fields\n",
        "trial_size = 10 #@param {type:\"integer\"}\n",
        "success_observed =  3#@param {type:\"integer\"}\n",
        "\n",
        "inputs_to_bayes = {\n",
        "    'model':'binomial', 'n':trial_size, 'successes_observed':success_observed, \n",
        "    'prior':[i/500 for i in range(500)],\n",
        "    'simulation_size':1000\n",
        "}\n",
        " \n",
        "Bayes(inputs_to_bayes)"
      ]
    },
    {
      "cell_type": "markdown",
      "source": [
        "# New Section"
      ],
      "metadata": {
        "id": "QVxULsgx3g0M"
      }
    }
  ]
}